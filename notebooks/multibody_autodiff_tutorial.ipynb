{
 "cells": [
  {
   "cell_type": "code",
   "execution_count": 12,
   "metadata": {},
   "outputs": [],
   "source": [
    "import numpy as np\n",
    "\n",
    "from pydrake.math import RigidTransform\n",
    "from pydrake.multibody.parsing import Parser\n",
    "from pydrake.systems.analysis import Simulator\n",
    "from pydrake.all import MultibodyPlant, Frame\n",
    "\n",
    "from pydrake.solvers import MathematicalProgram, Solve"
   ]
  },
  {
   "cell_type": "code",
   "execution_count": 13,
   "metadata": {},
   "outputs": [],
   "source": [
    "# setup plant\n",
    "plant_f = MultibodyPlant(time_step=0.0)\n",
    "iiwa_url = (\n",
    "    \"package://drake_models/iiwa_description/sdf/iiwa14_no_collision.sdf\"\n",
    ")\n",
    "(iiwa,) = Parser(plant_f).AddModelsFromUrl(url=iiwa_url)\n",
    "\n",
    "W = plant_f.world_frame()\n",
    "L0 = plant_f.GetFrameByName(\"iiwa_link_0\", iiwa)\n",
    "L7 = plant_f.GetFrameByName(\"iiwa_link_7\", iiwa)\n",
    "\n",
    "plant_f.WeldFrames(W, L0)\n",
    "plant_f.Finalize()"
   ]
  },
  {
   "cell_type": "code",
   "execution_count": 14,
   "metadata": {},
   "outputs": [],
   "source": [
    "# create context and autodiff plant\n",
    "context_f = plant_f.CreateDefaultContext()\n",
    "plant_ad = plant_f.ToAutoDiffXd()\n",
    "context_ad = plant_ad.CreateDefaultContext()\n",
    "\n",
    "def resolve_frame(plant: MultibodyPlant, F: Frame):\n",
    "    return plant.GetFrameByName(F.name(), F.model_instance())\n",
    "\n",
    "p_WT = [0.1, 0.1, 0.6]\n",
    "def link_7_distance_to_target(q):\n",
    "    if q.dtype == float:\n",
    "        plant = plant_f\n",
    "        context = context_f\n",
    "    else:\n",
    "        plant = plant_ad\n",
    "        context = context_ad\n",
    "    plant.SetPositions(context, iiwa, q)\n",
    "    X_WL7 = plant.CalcRelativeTransform(context, resolve_frame(plant, W), resolve_frame(plant, L7))\n",
    "    p_TL7 = X_WL7.translation() - p_WT\n",
    "    return p_TL7.dot(p_TL7) #returns squared distance\n",
    "\n",
    "link_7_distance_to_target_vector = lambda q: [link_7_distance_to_target(q)]"
   ]
  },
  {
   "cell_type": "code",
   "execution_count": 15,
   "metadata": {},
   "outputs": [
    {
     "data": {
      "text/plain": [
       "<pydrake.solvers.Binding𝓣Constraint𝓤 at 0x725b8cb498b0>"
      ]
     },
     "execution_count": 15,
     "metadata": {},
     "output_type": "execute_result"
    }
   ],
   "source": [
    "prog = MathematicalProgram()\n",
    "q = prog.NewContinuousVariables(plant_f.num_positions())\n",
    "q0 = np.zeros(plant_f.num_positions())\n",
    "\n",
    "prog.AddCost((q-q0).dot(q-q0)) # add quadratic cost\n",
    "\n",
    "prog.AddConstraint(\n",
    "    link_7_distance_to_target_vector, lb=[0.1], ub=[0.2], vars=q\n",
    ")"
   ]
  },
  {
   "cell_type": "code",
   "execution_count": 16,
   "metadata": {},
   "outputs": [
    {
     "name": "stdout",
     "output_type": "stream",
     "text": [
      "Success? True\n",
      "SolutionResult.kSolutionFound\n",
      "[ 0.18293302 -0.15345868  0.22224834 -1.24010409  0.01028776  0.28116727\n",
      "  0.        ]\n",
      "Initial distance: 0.457\n",
      "Solution distance: 0.200\n"
     ]
    }
   ],
   "source": [
    "result = Solve(prog, initial_guess=q0)\n",
    "print(f\"Success? {result.is_success()}\")\n",
    "print(result.get_solution_result())\n",
    "q_sol = result.GetSolution(q)\n",
    "print(q_sol)\n",
    "\n",
    "print(f\"Initial distance: {link_7_distance_to_target(q0):.3f}\")\n",
    "print(f\"Solution distance: {link_7_distance_to_target(q_sol):.3f}\")"
   ]
  },
  {
   "cell_type": "markdown",
   "metadata": {},
   "source": [
    "# Alternative Formulation"
   ]
  },
  {
   "cell_type": "code",
   "execution_count": 17,
   "metadata": {},
   "outputs": [
    {
     "data": {
      "text/plain": [
       "<pydrake.solvers.Binding𝓣Cost𝓤 at 0x725b90973330>"
      ]
     },
     "execution_count": 17,
     "metadata": {},
     "output_type": "execute_result"
    }
   ],
   "source": [
    "prog = MathematicalProgram()\n",
    "\n",
    "q = prog.NewContinuousVariables(plant_f.num_positions())\n",
    "# Define nominal configuration.\n",
    "q0 = np.zeros(plant_f.num_positions())\n",
    "\n",
    "# Add custom cost.\n",
    "prog.AddCost(link_7_distance_to_target, vars=q)"
   ]
  },
  {
   "cell_type": "code",
   "execution_count": null,
   "metadata": {},
   "outputs": [],
   "source": [
    "result = Solve(prog, initial_guess=q0)\n",
    "\n",
    "print(f\"Success? {result.is_success()}\")\n",
    "print(result.get_solution_result())\n",
    "q_sol = result.GetSolution(q)\n",
    "print(q_sol)\n",
    "\n",
    "print(f\"Initial distance: {link_7_distance_to_target(q0):.3f}\")\n",
    "print(f\"Solution distance: {link_7_distance_to_target(q_sol):.3f}\")"
   ]
  }
 ],
 "metadata": {
  "kernelspec": {
   "display_name": "Python 3",
   "language": "python",
   "name": "python3"
  },
  "language_info": {
   "codemirror_mode": {
    "name": "ipython",
    "version": 3
   },
   "file_extension": ".py",
   "mimetype": "text/x-python",
   "name": "python",
   "nbconvert_exporter": "python",
   "pygments_lexer": "ipython3",
   "version": "3.10.12"
  }
 },
 "nbformat": 4,
 "nbformat_minor": 2
}
