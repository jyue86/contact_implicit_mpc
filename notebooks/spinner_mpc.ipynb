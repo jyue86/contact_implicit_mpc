{
 "cells": [
  {
   "cell_type": "code",
   "execution_count": 1,
   "metadata": {},
   "outputs": [],
   "source": [
    "from pydrake.all import (\n",
    "    MultibodyPlantConfig,\n",
    "    Meshcat,\n",
    "    StartMeshcat,\n",
    "    DiagramBuilder,\n",
    "    AddMultibodyPlant,\n",
    "    Parser,\n",
    "    LoadModelDirectives,\n",
    "    ModelDirectives,\n",
    "    ProcessModelDirectives,\n",
    "    Diagram,\n",
    "    Context,\n",
    "    AddDefaultVisualization,\n",
    "    RigidTransform,\n",
    "    Quaternion,\n",
    "    MultibodyPlant,\n",
    "    JacobianWrtVariable,\n",
    "    MathematicalProgram,\n",
    "    eq,\n",
    "    Solve\n",
    ")\n",
    "import numpy as np\n",
    "import matplotlib.pyplot as plt"
   ]
  },
  {
   "cell_type": "code",
   "execution_count": 2,
   "metadata": {},
   "outputs": [
    {
     "name": "stderr",
     "output_type": "stream",
     "text": [
      "INFO:drake:Meshcat listening for connections at http://localhost:7000\n"
     ]
    }
   ],
   "source": [
    "meshcat: Meshcat = StartMeshcat()"
   ]
  },
  {
   "cell_type": "markdown",
   "metadata": {},
   "source": [
    "## Example Setup for Spinner"
   ]
  },
  {
   "cell_type": "code",
   "execution_count": 3,
   "metadata": {},
   "outputs": [],
   "source": [
    "# Example Setup\n",
    "meshcat.SetCameraPose(np.array([1.0,-0.5,2.0]), np.array([0.8, -0.5, 0.0]) )\n",
    "\n",
    "config = MultibodyPlantConfig()\n",
    "config.time_step = 0.001\n",
    "config.penetration_allowance = 0.001\n",
    "config.contact_model = \"hydroelastic_with_fallback\"\n",
    "config.contact_surface_representation = \"polygon\"\n",
    "config.discrete_contact_approximation = \"tamsi\"\n",
    "\n",
    "builder = DiagramBuilder()\n",
    "plant, scene_graph = AddMultibodyPlant(config, builder)\n",
    "parser = Parser(plant, scene_graph)\n",
    "parser.package_map().AddPackageXml('../package.xml')\n",
    "\n",
    "directive_file = \"../config/spinner.yaml\"\n",
    "directives: ModelDirectives = LoadModelDirectives(directive_file)\n",
    "models = ProcessModelDirectives(directives, plant, parser)\n",
    "plant.Finalize()\n",
    "\n",
    "AddDefaultVisualization(builder, meshcat)\n",
    "\n",
    "diagram: Diagram = builder.Build()\n",
    "context: Context = diagram.CreateDefaultContext()\n",
    "plant_context = plant.GetMyContextFromRoot(context)\n",
    "diagram.ForcedPublish(context)"
   ]
  },
  {
   "cell_type": "code",
   "execution_count": 4,
   "metadata": {},
   "outputs": [],
   "source": [
    "context.SetTime(0.0)\n",
    "plant.SetPositions(plant_context, [0.2, 0.2, 1.0])\n",
    "body_rt = RigidTransform(Quaternion(1.0,0.0,0.0,0.0), [0.0, 0.0, 0.25])\n",
    "diagram.ForcedPublish(context)"
   ]
  },
  {
   "cell_type": "markdown",
   "metadata": {},
   "source": [
    "Playing around with this setup, you'll notice that the first two positions in the plant are related to the two revolute jointed arm. The arm is a fixed base (meaning it's welded to the floor at the origin).\n",
    "\n",
    "The ball is also a fixed base with only rotated being possible. This is planned in SE(2) as a small test for contact implicit MPC."
   ]
  },
  {
   "cell_type": "markdown",
   "metadata": {},
   "source": [
    "# Contact Implicit MPC Modelling\n",
    "\n",
    "We want to spin the \"spinner\" ball to a specified angle in yaw direction. We model this as a trajectury optimization problem where we make a quadratic cost and dynamical equality constraints. "
   ]
  },
  {
   "cell_type": "markdown",
   "metadata": {},
   "source": [
    "## Contact Implicit formulation"
   ]
  },
  {
   "cell_type": "code",
   "execution_count": 5,
   "metadata": {},
   "outputs": [
    {
     "data": {
      "image/png": "[encoded data removed]",
      "text/plain": [
       "<Figure size 432x288 with 1 Axes>"
      ]
     },
     "metadata": {
      "needs_background": "light"
     },
     "output_type": "display_data"
    }
   ],
   "source": [
    "#fn = normal force\n",
    "fn_on = np.linspace(0.0,1.0,20)\n",
    "fn_off = np.zeros(20)\n",
    "\n",
    "# phi = signed distance between end-effector and object\n",
    "phi_on = np.linspace(0.0,1.0,20)\n",
    "phi_off = np.zeros(20)\n",
    "\n",
    "plt.plot(phi_on, fn_off, c='b')\n",
    "plt.plot(phi_off, fn_on, c='b')\n",
    "plt.grid()\n",
    "plt.title(\"Contact Complementarity Constraint Visualization\")\n",
    "plt.show()"
   ]
  },
  {
   "cell_type": "code",
   "execution_count": 6,
   "metadata": {},
   "outputs": [
    {
     "data": {
      "image/png": "[encoded data removed]",
      "text/plain": [
       "<Figure size 432x288 with 1 Axes>"
      ]
     },
     "metadata": {
      "needs_background": "light"
     },
     "output_type": "display_data"
    }
   ],
   "source": [
    "sigma = 0.1 #smoothing parameter\n",
    "kspring = 30.0 #spring stiffness\n",
    "phis = np.linspace(-0.5, 1.0, 100)\n",
    "fns  = sigma * kspring * np.log(1 + np.exp(-phis/sigma))\n",
    "\n",
    "phis_nonpenetrate = np.linspace(0.0, 1.0, 100)\n",
    "fns_nonpenetrate = np.zeros(100)\n",
    "\n",
    "phis_penetrate = np.linspace(-0.5, 0.0, 100)\n",
    "fns_penetrate = -kspring*phis_penetrate\n",
    "\n",
    "plt.plot(phis, fns, c='b', label='IDTO')\n",
    "plt.plot(phis_nonpenetrate, fns_nonpenetrate, c='r', label='MuJoCo')\n",
    "plt.plot(phis_penetrate, fns_penetrate, c='r')\n",
    "plt.grid()\n",
    "plt.title(\"Contact Complentarity Smoothing Visualization\")\n",
    "plt.legend()\n",
    "plt.show()"
   ]
  },
  {
   "cell_type": "markdown",
   "metadata": {},
   "source": [
    "## Dynamics Formulation\n",
    "\n",
    "Using the spinning example, we get the manipulator equations and find the equations guiding the first-order Euler integration of said equations.\n",
    "\n",
    "The manipulator equations are denoted as follows:\n",
    "$$\n",
    "M(q)\\ddot q + C(q,\\dot q)\\dot q + \\tau_g(q) = u + J^Tf\n",
    "$$"
   ]
  },
  {
   "cell_type": "code",
   "execution_count": 7,
   "metadata": {},
   "outputs": [],
   "source": [
    "# quickly setup a diagram\n",
    "config = MultibodyPlantConfig()\n",
    "builder = DiagramBuilder()\n",
    "plant, scene_graph = AddMultibodyPlant(config, builder)\n",
    "plant: MultibodyPlant = plant\n",
    "plant.mutable_gravity_field().set_gravity_vector([0, 0, 0]) # set gravity to zero\n",
    "\n",
    "parser = Parser(plant, scene_graph)\n",
    "parser.package_map().AddPackageXml('../package.xml')\n",
    "\n",
    "directive_file = \"../config/spinner.yaml\"\n",
    "directives: ModelDirectives = LoadModelDirectives(directive_file)\n",
    "models = ProcessModelDirectives(directives, plant, parser)\n",
    "plant.Finalize()\n",
    "diagram: Diagram = builder.Build()"
   ]
  },
  {
   "cell_type": "code",
   "execution_count": 8,
   "metadata": {},
   "outputs": [
    {
     "name": "stdout",
     "output_type": "stream",
     "text": [
      "M =  [[2.6678 0.8339]\n",
      " [0.8339 0.3339]]\n",
      "C =  [0. 0.]\n",
      "tau_g =  [-0. -0.]\n"
     ]
    }
   ],
   "source": [
    "context = diagram.CreateDefaultContext()\n",
    "plant_context = plant.GetMyContextFromRoot(context)\n",
    "\n",
    "# get manipulator equations, but only consider the 2R arm instead of the spinner ball\n",
    "M = plant.CalcMassMatrix(plant_context)[:2,:2]\n",
    "C = plant.CalcBiasTerm(plant_context)[:2]\n",
    "tau_g = plant.CalcGravityGeneralizedForces(plant_context)[:2]\n",
    "print(\"M = \", M)\n",
    "print(\"C = \", C)\n",
    "print(\"tau_g = \", tau_g)"
   ]
  },
  {
   "cell_type": "markdown",
   "metadata": {},
   "source": [
    "To get the dynamical system from the manipulator equations, solve for $\\ddot q$.\n",
    "$$\n",
    "\\ddot q = M^{-1}(q)(u + J^Tf - C(q,\\dot q)\\dot q - \\tau_g(q))\n",
    "$$\n",
    "\n",
    "Let state $x = \\begin{bmatrix} q & v \\end{bmatrix}^T$ such that.\n",
    "\n",
    "$$\n",
    "\\dot x = f(x,u)\n",
    "$$\n",
    "\n",
    "$$\n",
    "\\dot x = \n",
    "\\begin{bmatrix}\n",
    "\\dot q \\\\\n",
    "M^{-1}(q)(u + J^Tf - C(q,\\dot q)\\dot q - \\tau_g(q))\n",
    "\\end{bmatrix}\n",
    "$$"
   ]
  },
  {
   "cell_type": "markdown",
   "metadata": {},
   "source": [
    "Note that we are using v instead of $\\dot q$. This is because a kinematic mapping is required such that we get the generalized velocities of the system. This is a formality. Most of the time $\\dot q = v$, but we specify the relationship between the two as follows:\n",
    "$$\n",
    "\\dot q = N(q)v\n",
    "$$"
   ]
  },
  {
   "cell_type": "code",
   "execution_count": 9,
   "metadata": {},
   "outputs": [
    {
     "name": "stdout",
     "output_type": "stream",
     "text": [
      "Forward Kinematics:\n",
      "RigidTransform(\n",
      "  R=RotationMatrix([\n",
      "    [1.0, 0.0, 0.0],\n",
      "    [0.0, 4.8965888601467475e-12, -1.0],\n",
      "    [0.0, 1.0, 4.8965888601467475e-12],\n",
      "  ]),\n",
      "  p=[0.0, -1.0, 4.8965888601467475e-12],\n",
      ")\n",
      "Kinematic Jacobian:\n",
      "[[0. 0. 0.]\n",
      " [0. 0. 0.]\n",
      " [1. 1. 0.]\n",
      " [1. 0. 0.]\n",
      " [0. 0. 0.]\n",
      " [0. 0. 0.]]\n"
     ]
    }
   ],
   "source": [
    "q = np.array([0,0,0])\n",
    "plant.SetPositions(plant_context, q)\n",
    "#get arm position using forward kinematics\n",
    "finger_pose = plant.EvalBodyPoseInWorld(plant_context, plant.GetBodyByName(\"finger_two\"))\n",
    "\n",
    "N_q = plant.CalcJacobianSpatialVelocity(plant_context, with_respect_to=JacobianWrtVariable.kQDot,\n",
    "                                        frame_B=plant.GetFrameByName(\"finger_two\"),\n",
    "                                        p_BoBp_B=[0,0,0],\n",
    "                                        frame_A=plant.world_frame(),\n",
    "                                        frame_E=plant.world_frame())\n",
    "print(\"Forward Kinematics:\")\n",
    "print(finger_pose)\n",
    "print(\"Kinematic Jacobian:\")\n",
    "print(np.around(N_q,3)) # top 3 rows are angular velocity, bottom 3 rows are positional velocity"
   ]
  },
  {
   "cell_type": "markdown",
   "metadata": {},
   "source": [
    "To include our kinematic mapping in our manipulator equations, we do the following:\n",
    "$$\n",
    "M_x(q)\\dot v + k(q,v) + \\tau_g(q) = u + J^T f\n",
    "$$\n",
    "To relate this to the previous manipulator equation, we can expand on this expression:\n",
    "$$\n",
    "M(q)\\dot v + C(q, N^{+}(q)\\dot q)N^{+}(q)v + \\tau_g(q) = u + J^T f\n",
    "$$\n",
    "So we can also say\n",
    "$$\n",
    "M_x(q) = M(q)\n",
    "$$\n",
    "$$\n",
    "k(q,v) = C(q,N^{+}(q)\\dot q)N^{+}(q)v\n",
    "$$\n",
    "$N^{+}(q)$ is the pseudo-inverse of $N(q)$"
   ]
  },
  {
   "cell_type": "markdown",
   "metadata": {},
   "source": [
    "We can similarly get the dynamical system of our newly defined state:\n",
    "\n",
    "$$\n",
    "\\dot x = \n",
    "\\begin{bmatrix}\n",
    "N^{+}(q)v \\\\\n",
    "M_x(q)^{-1}(u + J^T f - k(q,v) - \\tau_g(q))\n",
    "\\end{bmatrix}\n",
    "$$\n",
    "\n",
    "With this in mind, we discretize the dynamical system and formulate our optimization problem."
   ]
  },
  {
   "cell_type": "markdown",
   "metadata": {},
   "source": [
    "## Inverse Dynamics TrajOpt specifics\n",
    "So in order to make this work for the IDTO paper, our equality constraints are actually the inverse dynamical of the system.\n",
    "\n",
    "$$\n",
    "a = \\dot v\n",
    "$$\n",
    "\n",
    "$$\n",
    "u = M_x(q)a + k(q,v) + \\tau_g(q) - J^T f\n",
    "$$\n",
    "\n",
    "so we can replace all of our $v$ and $a$ terms with just $q$\n",
    "$$\n",
    "v_k(q) = N^{+}(q_k)\\frac{q_k - q_{k-1}}{\\delta t}\n",
    "$$\n",
    "$$\n",
    "a_k(q) = \\frac{v_{k+1} - v_k}{\\delta t}\n",
    "$$\n",
    "This makes everything in the optimization in terms of $q$ and thus the only decision variable.\n",
    "\n",
    "We setup our optimization as follows:\n",
    "\n",
    "$$\n",
    "\\min_{q,u} \\sum_{i=0}^N \\| q_i - q_d \\|_2^2 + \\sum_{i=1}^N \\| u_i \\|_2^2 \\\\\n",
    "s.t. \\\\\n",
    "u_i = M_x(q_{i+1})a_i + k(q_{i+1},v_{i+1}) + \\tau_g(q_{i+1}) - J^T f\n",
    "$$"
   ]
  },
  {
   "cell_type": "markdown",
   "metadata": {},
   "source": [
    "## MPC using no contact\n",
    "Goal: go to a position using IDTO formulation but without contact"
   ]
  },
  {
   "cell_type": "code",
   "execution_count": 10,
   "metadata": {},
   "outputs": [],
   "source": [
    "# quickly setup a diagram\n",
    "config = MultibodyPlantConfig()\n",
    "builder = DiagramBuilder()\n",
    "plant_f, scene_graph = AddMultibodyPlant(config, builder)\n",
    "plant_f: MultibodyPlant = plant_f\n",
    "plant_f.mutable_gravity_field().set_gravity_vector([0, 0, 0]) # set gravity to zero\n",
    "\n",
    "parser = Parser(plant_f, scene_graph)\n",
    "parser.package_map().AddPackageXml('../package.xml')\n",
    "\n",
    "directive_file = \"../config/spinner.yaml\"\n",
    "directives: ModelDirectives = LoadModelDirectives(directive_file)\n",
    "models = ProcessModelDirectives(directives, plant_f, parser)\n",
    "plant_f.Finalize()\n",
    "diagram: Diagram = builder.Build()\n",
    "plant_ad: MultibodyPlant = plant_f.ToAutoDiffXd()"
   ]
  },
  {
   "cell_type": "code",
   "execution_count": 11,
   "metadata": {},
   "outputs": [],
   "source": [
    "context_f = plant_f.CreateDefaultContext()\n",
    "context_ad = plant_ad.CreateDefaultContext()"
   ]
  },
  {
   "cell_type": "code",
   "execution_count": 12,
   "metadata": {},
   "outputs": [
    {
     "data": {
      "text/plain": [
       "array([[0.00000000e+00, 0.00000000e+00, 0.00000000e+00],\n",
       "       [4.89658886e-12, 4.89658886e-12, 0.00000000e+00],\n",
       "       [1.00000000e+00, 1.00000000e+00, 0.00000000e+00],\n",
       "       [1.00000000e+00, 0.00000000e+00, 0.00000000e+00],\n",
       "       [0.00000000e+00, 0.00000000e+00, 0.00000000e+00],\n",
       "       [0.00000000e+00, 0.00000000e+00, 0.00000000e+00]])"
      ]
     },
     "execution_count": 12,
     "metadata": {},
     "output_type": "execute_result"
    }
   ],
   "source": [
    "N_q"
   ]
  },
  {
   "cell_type": "code",
   "execution_count": 13,
   "metadata": {},
   "outputs": [
    {
     "data": {
      "text/plain": [
       "<pydrake.solvers.Binding𝓣Constraint𝓤 at 0x7a51c75ebdb0>"
      ]
     },
     "execution_count": 13,
     "metadata": {},
     "output_type": "execute_result"
    }
   ],
   "source": [
    "des_q = np.array([0,0,0])\n",
    "q0 = np.array([1.0,1.0,0])\n",
    "qdot0 = np.array([0,0,0])\n",
    "v0 = np.array([0,0,0])\n",
    "\n",
    "prog = MathematicalProgram()\n",
    "\n",
    "horizon = 50\n",
    "dt = 0.1\n",
    "qs = prog.NewContinuousVariables(rows=3, cols=horizon, name=\"qs\")\n",
    "us = prog.NewContinuousVariables(rows=2, cols=horizon-1, name=\"us\")\n",
    "\n",
    "# set initial conditions\n",
    "prog.AddConstraint(eq(qs[:,0], q0))\n",
    "\n",
    "# set vs and accels as lookups for qs\n",
    "def calculate_vs(q):\n",
    "    qs_var = q.reshape((3,horizon))\n",
    "    if qs_var.dtype == float:\n",
    "        plant = plant_f\n",
    "        context = context_f\n",
    "    else:\n",
    "        plant = plant_ad\n",
    "        context = context_ad\n",
    "    vs = np.zeros((3,horizon),dtype=object)\n",
    "    vs[:,0] = v0\n",
    "    for i in range(1,horizon):\n",
    "        plant.SetPositions(context, qs_var[:,i])\n",
    "        vs[:,i] = plant_ad.MapQDotToVelocity(context_ad, qs_var[:,i] - qs_var[:,i-1])/dt # vdot = N_q * qdot\n",
    "    return vs\n",
    "\n",
    "def calculate_accels(vs_var):\n",
    "    accels = np.zeros((3,horizon-1),dtype=object)\n",
    "    for i in range(1,horizon-1):\n",
    "        accels[:,i] = (vs_var[:,i+1] - vs_var[:,i])/dt\n",
    "    return accels\n",
    "\n",
    "def calculate_qdots(q):\n",
    "    qs_var = q.reshape((3,horizon))\n",
    "    qdots = np.zeros((3,horizon),dtype=object)\n",
    "    qdots[:,0] = qdot0\n",
    "    for i in range(1,horizon):\n",
    "        qdots[:,i] = (qs_var[:,i] - qs_var[:,i-1])/dt\n",
    "    return qdots\n",
    "\n",
    "def custom_vel_cost(q):\n",
    "    vs = calculate_vs(q)\n",
    "    return sum(vs[0,:]**2) + sum(vs[1,:]**2)\n",
    "\n",
    "prog.AddCost(sum(us[0,:]**2) + sum(us[1,:]**2)) # minimize control effort for 2R arms\n",
    "prog.AddCost(100*(sum(qs[0,:]**2) + sum(qs[1,:]**2))) # minimize joint angles\n",
    "prog.AddCost(custom_vel_cost, vars=qs.flatten()) # minimize cartesian finger velocities\n",
    "\n",
    "def calculate_sdf(sphere_pos, sphere_radius, ee_pos):\n",
    "    return np.linalg.norm(sphere_pos - ee_pos) - sphere_radius\n",
    "\n",
    "def calculate_dissipation(vn, vd):\n",
    "    term = vn/vd\n",
    "    if term < 0:\n",
    "        return 1 - term \n",
    "    elif 0 <= term < 2:\n",
    "        return (vn/vd - 2)**2/4\n",
    "    else:\n",
    "        return 0\n",
    "\n",
    "def calculate_tangential_component(mu, vt, vs, fn):\n",
    "    return -mu * (vt/np.sqrt(vs ** 2 + np.linalg.norm(vt) ** 2)) * fn\n",
    "\n",
    "def calculate_normal_force(sigma, k, sdf):\n",
    "    c_sdf = sigma * k * np.log(1 + np.exp(-sdf/ sigma))\n",
    "    d = None\n",
    "    return d\n",
    "\n",
    "# add inverse dynamics constraint\n",
    "\n",
    "def custom_inverse_dynamics_eval(var):\n",
    "    q,u = np.split(var, [3*horizon])\n",
    "    qs_var = q.reshape((3,horizon))\n",
    "    us_var = u.reshape((2,horizon-1))\n",
    "    vs_var = calculate_vs(q)\n",
    "    accels = calculate_accels(vs_var)\n",
    "    taus = np.zeros((2,horizon-1),dtype=object)\n",
    "    for i in range(horizon-1):\n",
    "        plant_ad.SetPositions(context_ad, qs_var[:,i+1])\n",
    "        plant_ad.SetVelocities(context_ad, vs_var[:,i+1])\n",
    "        \n",
    "        M = plant_ad.CalcMassMatrix(context_ad)\n",
    "        C = plant_ad.CalcBiasTerm(context_ad)\n",
    "        \n",
    "        tau_g = plant_ad.CalcGravityGeneralizedForces(context_ad)\n",
    "        tau = M @ accels[:,i] + C + tau_g\n",
    "        taus[:,i] = tau[:2]\n",
    "    return (taus - us_var).flatten()\n",
    "prog.AddConstraint(custom_inverse_dynamics_eval, lb=np.zeros(2*(horizon-1)), ub=np.zeros(2*(horizon-1)), vars=np.concatenate((qs.flatten(),us.flatten())))"
   ]
  },
  {
   "cell_type": "code",
   "execution_count": 14,
   "metadata": {},
   "outputs": [
    {
     "name": "stdout",
     "output_type": "stream",
     "text": [
      "Success?  True\n",
      "Optimal cost:  781.5149031999337\n"
     ]
    }
   ],
   "source": [
    "result = Solve(prog)\n",
    "\n",
    "print(\"Success? \", result.is_success())\n",
    "print(\"Optimal cost: \", result.get_optimal_cost())\n",
    "qs_sol = result.GetSolution(qs)"
   ]
  },
  {
   "cell_type": "code",
   "execution_count": 15,
   "metadata": {},
   "outputs": [
    {
     "data": {
      "image/png": "[encoded data removed]",
      "text/plain": [
       "<Figure size 432x288 with 1 Axes>"
      ]
     },
     "metadata": {
      "needs_background": "light"
     },
     "output_type": "display_data"
    }
   ],
   "source": [
    "# plot solution\n",
    "plt.plot(qs_sol[0,:], label='q1')\n",
    "plt.plot(qs_sol[1,:], label='q2')\n",
    "plt.plot(qs_sol[2,:], label='q3')\n",
    "plt.grid()\n",
    "plt.legend()\n",
    "plt.title(\"Joint Angles vs Time\")\n",
    "plt.show()"
   ]
  },
  {
   "cell_type": "code",
   "execution_count": null,
   "metadata": {},
   "outputs": [],
   "source": []
  }
 ],
 "metadata": {
  "kernelspec": {
   "display_name": "Python 3",
   "language": "python",
   "name": "python3"
  },
  "language_info": {
   "codemirror_mode": {
    "name": "ipython",
    "version": 3
   },
   "file_extension": ".py",
   "mimetype": "text/x-python",
   "name": "python",
   "nbconvert_exporter": "python",
   "pygments_lexer": "ipython3",
   "version": "3.10.12"
  }
 },
 "nbformat": 4,
 "nbformat_minor": 2
}
