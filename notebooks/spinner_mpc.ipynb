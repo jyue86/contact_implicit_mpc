{
 "cells": [
  {
   "cell_type": "code",
   "execution_count": 1,
   "metadata": {},
   "outputs": [],
   "source": [
    "from pydrake.all import (\n",
    "    LeafSystem,\n",
    "    MultibodyPlantConfig,\n",
    "    Meshcat,\n",
    "    StartMeshcat,\n",
    "    DiagramBuilder,\n",
    "    AddMultibodyPlant,\n",
    "    Parser,\n",
    "    LoadModelDirectives,\n",
    "    ModelDirectives,\n",
    "    ProcessModelDirectives,\n",
    "    Diagram,\n",
    "    Context,\n",
    "    AddDefaultVisualization,\n",
    "    RigidTransform,\n",
    "    Quaternion\n",
    ")\n",
    "import numpy as np\n",
    "import matplotlib.pyplot as plt"
   ]
  },
  {
   "cell_type": "code",
   "execution_count": 2,
   "metadata": {},
   "outputs": [
    {
     "name": "stderr",
     "output_type": "stream",
     "text": [
      "INFO:drake:Meshcat listening for connections at http://localhost:7000\n"
     ]
    }
   ],
   "source": [
    "meshcat: Meshcat = StartMeshcat()"
   ]
  },
  {
   "cell_type": "markdown",
   "metadata": {},
   "source": [
    "## Example Setup for Spinner"
   ]
  },
  {
   "cell_type": "code",
   "execution_count": 3,
   "metadata": {},
   "outputs": [],
   "source": [
    "# Setup \n",
    "config = MultibodyPlantConfig()\n",
    "config.time_step = 0.001\n",
    "config.penetration_allowance = 0.001\n",
    "config.contact_model = \"hydroelastic_with_fallback\"\n",
    "config.contact_surface_representation = \"polygon\"\n",
    "config.discrete_contact_approximation = \"tamsi\"\n",
    "\n",
    "builder = DiagramBuilder()\n",
    "plant, scene_graph = AddMultibodyPlant(config, builder)\n",
    "parser = Parser(plant, scene_graph)\n",
    "parser.package_map().AddPackageXml('../package.xml')\n",
    "\n",
    "directive_file = \"../config/spinner.yaml\"\n",
    "directives: ModelDirectives = LoadModelDirectives(directive_file)\n",
    "models = ProcessModelDirectives(directives, plant, parser)\n",
    "plant.Finalize()\n",
    "\n",
    "AddDefaultVisualization(builder, meshcat)\n",
    "\n",
    "diagram: Diagram = builder.Build()\n",
    "context: Context = diagram.CreateDefaultContext()\n",
    "plant_context = plant.GetMyContextFromRoot(context)\n",
    "diagram.ForcedPublish(context)"
   ]
  },
  {
   "cell_type": "code",
   "execution_count": 5,
   "metadata": {},
   "outputs": [],
   "source": [
    "context.SetTime(0.0)\n",
    "plant.SetPositions(plant_context, [0.2, 0.2, 1.0])\n",
    "body_rt = RigidTransform(Quaternion(1.0,0.0,0.0,0.0), [0.0, 0.0, 0.25])\n",
    "diagram.ForcedPublish(context)"
   ]
  },
  {
   "cell_type": "markdown",
   "metadata": {},
   "source": [
    "Playing around with this setup, you'll notice that the first two positions in the plant are related to the two revolute jointed arm. The arm is a fixed base (meaning it's welded to the floor at the origin).\n",
    "\n",
    "The ball is also a fixed base with only rotated being possible. This is planned in SE(2) as a small test for contact implicit MPC."
   ]
  },
  {
   "cell_type": "markdown",
   "metadata": {},
   "source": []
  }
 ],
 "metadata": {
  "kernelspec": {
   "display_name": "Python 3",
   "language": "python",
   "name": "python3"
  },
  "language_info": {
   "codemirror_mode": {
    "name": "ipython",
    "version": 3
   },
   "file_extension": ".py",
   "mimetype": "text/x-python",
   "name": "python",
   "nbconvert_exporter": "python",
   "pygments_lexer": "ipython3",
   "version": "3.10.12"
  }
 },
 "nbformat": 4,
 "nbformat_minor": 2
}
